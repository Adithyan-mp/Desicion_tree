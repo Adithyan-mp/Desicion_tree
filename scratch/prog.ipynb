{
 "cells": [
  {
   "cell_type": "code",
   "execution_count": 1,
   "metadata": {},
   "outputs": [],
   "source": [
    "import numpy as np\n",
    "import pandas as pd"
   ]
  },
  {
   "cell_type": "code",
   "execution_count": 2,
   "metadata": {},
   "outputs": [],
   "source": [
    "X_train = np.array([[1,1,1],[1,0,1],[1,0,0],[1,0,0],[1,1,1],[0,1,1],[0,0,0],[1,0,1],[0,1,0],[1,0,0]])\n",
    "y_train = np.array([1,1,0,0,1,0,0,1,1,0])"
   ]
  },
  {
   "cell_type": "code",
   "execution_count": 3,
   "metadata": {},
   "outputs": [],
   "source": [
    "def H(y):\n",
    "    if len(y) ==0:\n",
    "        return 0\n",
    "    p_0=len(y[y==1])/len(y)\n",
    "\n",
    "    if p_0==0 or p_0==1:\n",
    "        return 0\n",
    "    else:\n",
    "        return -(p_0*np.log2(p_0)+(1-p_0)*np.log2(1-p_0))"
   ]
  },
  {
   "cell_type": "code",
   "execution_count": 5,
   "metadata": {},
   "outputs": [
    {
     "name": "stdout",
     "output_type": "stream",
     "text": [
      "Entropy at root node:  1.0\n"
     ]
    }
   ],
   "source": [
    "print(\"Entropy at root node: \", H(y_train)) "
   ]
  },
  {
   "cell_type": "code",
   "execution_count": 7,
   "metadata": {},
   "outputs": [],
   "source": [
    "def  split_dataset(X,node_indices,feature):\n",
    "    left_indices=[]\n",
    "    right_indices=[]\n",
    "\n",
    "    for i in node_indices:\n",
    "        if X[i][feature]==1:\n",
    "            left_indices.append(i)\n",
    "        else:\n",
    "            right_indices.append(i)\n",
    "    return left_indices,right_indices"
   ]
  },
  {
   "cell_type": "code",
   "execution_count": 12,
   "metadata": {},
   "outputs": [
    {
     "name": "stdout",
     "output_type": "stream",
     "text": [
      "Left indices:  [0, 1, 2, 3, 4, 7, 9]\n",
      "Right indices:  [5, 6, 8]\n"
     ]
    }
   ],
   "source": [
    "root_indices=np.arange(10)\n",
    "feature = 0\n",
    "\n",
    "left_indices, right_indices = split_dataset(X_train, root_indices, feature)\n",
    "\n",
    "\n",
    "print(\"Left indices: \", left_indices)\n",
    "print(\"Right indices: \", right_indices)"
   ]
  },
  {
   "cell_type": "code",
   "execution_count": 10,
   "metadata": {},
   "outputs": [],
   "source": [
    "def compute_information_gain(x,y,node_indices,feature):\n",
    "    left_indices,right_indices=split_dataset(x,node_indices,feature)\n",
    "\n",
    "    x_node,y_node=x[node_indices],y[node_indices]\n",
    "    x_left,y_left=x[left_indices],y[left_indices]\n",
    "    x_right,y_right=x[right_indices],y[right_indices]\n",
    "\n",
    "    H_node=H(y_node)\n",
    "    H_left=H(y_left)\n",
    "    H_right=H(y_right)\n",
    "\n",
    "    w_left=len(y_left)/len(y_node)\n",
    "    w_right=len(y_right)/len(y_node)\n",
    "\n",
    "    return H_node-(H_left*w_left+H_right*w_right)"
   ]
  },
  {
   "cell_type": "code",
   "execution_count": 11,
   "metadata": {},
   "outputs": [
    {
     "name": "stdout",
     "output_type": "stream",
     "text": [
      "Information Gain from splitting the root on brown cap:  0.034851554559677034\n",
      "Information Gain from splitting the root on tapering stalk shape:  0.12451124978365313\n",
      "Information Gain from splitting the root on solitary:  0.2780719051126377\n"
     ]
    }
   ],
   "source": [
    "info_gain0 = compute_information_gain(X_train, y_train, root_indices, feature=0)\n",
    "print(\"Information Gain from splitting the root on brown cap: \", info_gain0)\n",
    "\n",
    "info_gain1 = compute_information_gain(X_train, y_train, root_indices, feature=1)\n",
    "print(\"Information Gain from splitting the root on tapering stalk shape: \", info_gain1)\n",
    "\n",
    "info_gain2 = compute_information_gain(X_train, y_train, root_indices, feature=2)\n",
    "print(\"Information Gain from splitting the root on solitary: \", info_gain2)"
   ]
  },
  {
   "cell_type": "code",
   "execution_count": 15,
   "metadata": {},
   "outputs": [],
   "source": [
    "def get_best_split(x,y,node_indices):\n",
    "\n",
    "    features=x.shape[1]\n",
    "    max_gain=0\n",
    "    selected_feature=-1\n",
    "    for feature in range(features):\n",
    "        info_gain=compute_information_gain(x,y,node_indices,feature)\n",
    "        if info_gain>max_gain:\n",
    "            max_gain=info_gain\n",
    "            selected_feature=feature\n",
    "\n",
    "    return selected_feature\n"
   ]
  },
  {
   "cell_type": "code",
   "execution_count": 16,
   "metadata": {},
   "outputs": [
    {
     "name": "stdout",
     "output_type": "stream",
     "text": [
      "Best feature to split on: 2\n"
     ]
    }
   ],
   "source": [
    "best_feature = get_best_split(X_train, y_train, root_indices)\n",
    "print(\"Best feature to split on: %d\" % best_feature)"
   ]
  },
  {
   "cell_type": "code",
   "execution_count": 17,
   "metadata": {},
   "outputs": [],
   "source": [
    "tree = []\n",
    "\n",
    "def construct_tree(X,y,node_indices,branch_name,max_depth,current_depth):\n",
    "\n",
    "    if max_depth == current_depth :\n",
    "        formatting = \" \"*current_depth + \"-\"*current_depth\n",
    "        print(formatting, \"%s leaf node with indices\" % branch_name, node_indices)\n",
    "        return\n",
    "    \n",
    "    best_split=get_best_split(X,y,node_indices)\n",
    "\n",
    "    left_indices,right_indices=split_dataset(X,node_indices,best_split)\n",
    "    tree.append((left_indices, right_indices, best_feature))\n",
    "\n",
    "    formatting = \"-\"*current_depth\n",
    "    print(\"%s Depth %d, %s: Split on feature: %d\" % (formatting, current_depth, branch_name, best_feature))\n",
    "\n",
    "    construct_tree(X,y,left_indices,'left',max_depth,current_depth+1)\n",
    "    construct_tree(X,y,right_indices,'right',max_depth,current_depth+1)\n",
    "\n"
   ]
  },
  {
   "cell_type": "code",
   "execution_count": 18,
   "metadata": {},
   "outputs": [
    {
     "name": "stdout",
     "output_type": "stream",
     "text": [
      " Depth 0, Root: Split on feature: 2\n",
      "- Depth 1, left: Split on feature: 2\n",
      "  -- left leaf node with indices [0, 1, 4, 7]\n",
      "  -- right leaf node with indices [5]\n",
      "- Depth 1, right: Split on feature: 2\n",
      "  -- left leaf node with indices [8]\n",
      "  -- right leaf node with indices [2, 3, 6, 9]\n"
     ]
    }
   ],
   "source": [
    "construct_tree(X_train, y_train, root_indices, \"Root\", max_depth=2, current_depth=0)"
   ]
  }
 ],
 "metadata": {
  "kernelspec": {
   "display_name": "base",
   "language": "python",
   "name": "python3"
  },
  "language_info": {
   "codemirror_mode": {
    "name": "ipython",
    "version": 3
   },
   "file_extension": ".py",
   "mimetype": "text/x-python",
   "name": "python",
   "nbconvert_exporter": "python",
   "pygments_lexer": "ipython3",
   "version": "3.10.13"
  }
 },
 "nbformat": 4,
 "nbformat_minor": 2
}
